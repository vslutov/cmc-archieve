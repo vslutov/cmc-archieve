version https://git-lfs.github.com/spec/v1
oid sha256:fa68ea2d0c15a635f230d25c96902a09623d77a240b46ef08afc7b04c024b586
size 558398
