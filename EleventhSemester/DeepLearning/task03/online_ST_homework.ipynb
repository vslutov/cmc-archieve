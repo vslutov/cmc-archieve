version https://git-lfs.github.com/spec/v1
oid sha256:d775b5178dc02ea0569243dab425411b4fb1ce5f16034a91c387167ef5661235
size 7186912
