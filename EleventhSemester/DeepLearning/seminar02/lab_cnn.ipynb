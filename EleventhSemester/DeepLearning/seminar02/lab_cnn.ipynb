version https://git-lfs.github.com/spec/v1
oid sha256:949b3ce0675cec6e4d167984eeb7b49b6129557c4ffcacd816a7239ebc95f326
size 191739
