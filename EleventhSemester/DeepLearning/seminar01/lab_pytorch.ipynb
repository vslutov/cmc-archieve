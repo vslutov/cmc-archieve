version https://git-lfs.github.com/spec/v1
oid sha256:c0fc08ee8779fec4ff296f80c76f30392015f0c5983c750d8aa9f52d6b99b934
size 92563
