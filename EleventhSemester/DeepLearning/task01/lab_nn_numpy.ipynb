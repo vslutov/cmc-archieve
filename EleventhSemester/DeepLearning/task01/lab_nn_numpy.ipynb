version https://git-lfs.github.com/spec/v1
oid sha256:598e6d73c83884542d322be92c8231e711b081d7116423fa6c364c3f88182fe2
size 68177
