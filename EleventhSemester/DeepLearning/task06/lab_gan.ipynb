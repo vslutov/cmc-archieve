version https://git-lfs.github.com/spec/v1
oid sha256:a85e6a06834d2509d9cf2fb64c7b6216d93426c1365d1818485055aaf82782f2
size 992094
