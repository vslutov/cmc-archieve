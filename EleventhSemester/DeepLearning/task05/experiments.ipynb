version https://git-lfs.github.com/spec/v1
oid sha256:eb9714f057564ba99eecde9db59a18abfe33a2092ddd7a9a956ef32582726367
size 43412
