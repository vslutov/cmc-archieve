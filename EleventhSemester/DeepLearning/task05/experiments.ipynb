version https://git-lfs.github.com/spec/v1
oid sha256:0e095d026efb8dca4569a21aaefc9b26498d01281f4004fba54352ef3cfbb024
size 1596148
