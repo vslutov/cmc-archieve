version https://git-lfs.github.com/spec/v1
oid sha256:f60429e89d472f8a76b9f8f63f74ded2e320b5633e752aac7d5c94399569595e
size 265324
